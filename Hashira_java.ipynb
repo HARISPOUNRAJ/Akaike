{
  "nbformat": 4,
  "nbformat_minor": 0,
  "metadata": {
    "colab": {
      "provenance": [],
      "authorship_tag": "ABX9TyMD/1SNZO6DRm86xsyeUxUC",
      "include_colab_link": true
    },
    "kernelspec": {
      "name": "python3",
      "display_name": "Python 3"
    },
    "language_info": {
      "name": "python"
    }
  },
  "cells": [
    {
      "cell_type": "markdown",
      "metadata": {
        "id": "view-in-github",
        "colab_type": "text"
      },
      "source": [
        "<a href=\"https://colab.research.google.com/github/HARISPOUNRAJ/Akaike/blob/main/Hashira_java.ipynb\" target=\"_parent\"><img src=\"https://colab.research.google.com/assets/colab-badge.svg\" alt=\"Open In Colab\"/></a>"
      ]
    },
    {
      "cell_type": "code",
      "execution_count": 1,
      "metadata": {
        "colab": {
          "base_uri": "https://localhost:8080/"
        },
        "id": "c8UAhUBlllZo",
        "outputId": "ec4614f1-3b0a-4936-dcce-a36a0b8aa1e3"
      },
      "outputs": [
        {
          "output_type": "stream",
          "name": "stdout",
          "text": [
            "Reading package lists... Done\n",
            "Building dependency tree... Done\n",
            "Reading state information... Done\n",
            "The following additional packages will be installed:\n",
            "  fonts-dejavu-core fonts-dejavu-extra libatk-wrapper-java\n",
            "  libatk-wrapper-java-jni libxt-dev libxtst6 libxxf86dga1\n",
            "  openjdk-17-jdk-headless openjdk-17-jre openjdk-17-jre-headless x11-utils\n",
            "Suggested packages:\n",
            "  libxt-doc openjdk-17-demo openjdk-17-source visualvm libnss-mdns\n",
            "  fonts-ipafont-gothic fonts-ipafont-mincho fonts-wqy-microhei\n",
            "  | fonts-wqy-zenhei fonts-indic mesa-utils\n",
            "The following NEW packages will be installed:\n",
            "  fonts-dejavu-core fonts-dejavu-extra libatk-wrapper-java\n",
            "  libatk-wrapper-java-jni libxt-dev libxtst6 libxxf86dga1 openjdk-17-jdk\n",
            "  openjdk-17-jdk-headless openjdk-17-jre openjdk-17-jre-headless x11-utils\n",
            "0 upgraded, 12 newly installed, 0 to remove and 35 not upgraded.\n",
            "Need to get 125 MB of archives.\n",
            "After this operation, 287 MB of additional disk space will be used.\n",
            "Get:1 http://archive.ubuntu.com/ubuntu jammy/main amd64 fonts-dejavu-core all 2.37-2build1 [1,041 kB]\n",
            "Get:2 http://archive.ubuntu.com/ubuntu jammy/main amd64 fonts-dejavu-extra all 2.37-2build1 [2,041 kB]\n",
            "Get:3 http://archive.ubuntu.com/ubuntu jammy/main amd64 libxtst6 amd64 2:1.2.3-1build4 [13.4 kB]\n",
            "Get:4 http://archive.ubuntu.com/ubuntu jammy/main amd64 libxxf86dga1 amd64 2:1.1.5-0ubuntu3 [12.6 kB]\n",
            "Get:5 http://archive.ubuntu.com/ubuntu jammy/main amd64 x11-utils amd64 7.7+5build2 [206 kB]\n",
            "Get:6 http://archive.ubuntu.com/ubuntu jammy/main amd64 libatk-wrapper-java all 0.38.0-5build1 [53.1 kB]\n",
            "Get:7 http://archive.ubuntu.com/ubuntu jammy/main amd64 libatk-wrapper-java-jni amd64 0.38.0-5build1 [49.0 kB]\n",
            "Get:8 http://archive.ubuntu.com/ubuntu jammy/main amd64 libxt-dev amd64 1:1.2.1-1 [396 kB]\n",
            "Get:9 http://archive.ubuntu.com/ubuntu jammy-updates/universe amd64 openjdk-17-jre-headless amd64 17.0.16+8~us1-0ubuntu1~22.04.1 [48.3 MB]\n",
            "Get:10 http://archive.ubuntu.com/ubuntu jammy-updates/universe amd64 openjdk-17-jre amd64 17.0.16+8~us1-0ubuntu1~22.04.1 [232 kB]\n",
            "Get:11 http://archive.ubuntu.com/ubuntu jammy-updates/universe amd64 openjdk-17-jdk-headless amd64 17.0.16+8~us1-0ubuntu1~22.04.1 [71.3 MB]\n",
            "Get:12 http://archive.ubuntu.com/ubuntu jammy-updates/universe amd64 openjdk-17-jdk amd64 17.0.16+8~us1-0ubuntu1~22.04.1 [1,522 kB]\n",
            "Fetched 125 MB in 3s (36.4 MB/s)\n",
            "Selecting previously unselected package fonts-dejavu-core.\n",
            "(Reading database ... 126371 files and directories currently installed.)\n",
            "Preparing to unpack .../00-fonts-dejavu-core_2.37-2build1_all.deb ...\n",
            "Unpacking fonts-dejavu-core (2.37-2build1) ...\n",
            "Selecting previously unselected package fonts-dejavu-extra.\n",
            "Preparing to unpack .../01-fonts-dejavu-extra_2.37-2build1_all.deb ...\n",
            "Unpacking fonts-dejavu-extra (2.37-2build1) ...\n",
            "Selecting previously unselected package libxtst6:amd64.\n",
            "Preparing to unpack .../02-libxtst6_2%3a1.2.3-1build4_amd64.deb ...\n",
            "Unpacking libxtst6:amd64 (2:1.2.3-1build4) ...\n",
            "Selecting previously unselected package libxxf86dga1:amd64.\n",
            "Preparing to unpack .../03-libxxf86dga1_2%3a1.1.5-0ubuntu3_amd64.deb ...\n",
            "Unpacking libxxf86dga1:amd64 (2:1.1.5-0ubuntu3) ...\n",
            "Selecting previously unselected package x11-utils.\n",
            "Preparing to unpack .../04-x11-utils_7.7+5build2_amd64.deb ...\n",
            "Unpacking x11-utils (7.7+5build2) ...\n",
            "Selecting previously unselected package libatk-wrapper-java.\n",
            "Preparing to unpack .../05-libatk-wrapper-java_0.38.0-5build1_all.deb ...\n",
            "Unpacking libatk-wrapper-java (0.38.0-5build1) ...\n",
            "Selecting previously unselected package libatk-wrapper-java-jni:amd64.\n",
            "Preparing to unpack .../06-libatk-wrapper-java-jni_0.38.0-5build1_amd64.deb ...\n",
            "Unpacking libatk-wrapper-java-jni:amd64 (0.38.0-5build1) ...\n",
            "Selecting previously unselected package libxt-dev:amd64.\n",
            "Preparing to unpack .../07-libxt-dev_1%3a1.2.1-1_amd64.deb ...\n",
            "Unpacking libxt-dev:amd64 (1:1.2.1-1) ...\n",
            "Selecting previously unselected package openjdk-17-jre-headless:amd64.\n",
            "Preparing to unpack .../08-openjdk-17-jre-headless_17.0.16+8~us1-0ubuntu1~22.04.1_amd64.deb ...\n",
            "Unpacking openjdk-17-jre-headless:amd64 (17.0.16+8~us1-0ubuntu1~22.04.1) ...\n",
            "Selecting previously unselected package openjdk-17-jre:amd64.\n",
            "Preparing to unpack .../09-openjdk-17-jre_17.0.16+8~us1-0ubuntu1~22.04.1_amd64.deb ...\n",
            "Unpacking openjdk-17-jre:amd64 (17.0.16+8~us1-0ubuntu1~22.04.1) ...\n",
            "Selecting previously unselected package openjdk-17-jdk-headless:amd64.\n",
            "Preparing to unpack .../10-openjdk-17-jdk-headless_17.0.16+8~us1-0ubuntu1~22.04.1_amd64.deb ...\n",
            "Unpacking openjdk-17-jdk-headless:amd64 (17.0.16+8~us1-0ubuntu1~22.04.1) ...\n",
            "Selecting previously unselected package openjdk-17-jdk:amd64.\n",
            "Preparing to unpack .../11-openjdk-17-jdk_17.0.16+8~us1-0ubuntu1~22.04.1_amd64.deb ...\n",
            "Unpacking openjdk-17-jdk:amd64 (17.0.16+8~us1-0ubuntu1~22.04.1) ...\n",
            "Setting up libxtst6:amd64 (2:1.2.3-1build4) ...\n",
            "Setting up libxxf86dga1:amd64 (2:1.1.5-0ubuntu3) ...\n",
            "Setting up libxt-dev:amd64 (1:1.2.1-1) ...\n",
            "Setting up fonts-dejavu-core (2.37-2build1) ...\n",
            "Setting up openjdk-17-jre-headless:amd64 (17.0.16+8~us1-0ubuntu1~22.04.1) ...\n",
            "update-alternatives: using /usr/lib/jvm/java-17-openjdk-amd64/bin/java to provide /usr/bin/java (java) in auto mode\n",
            "update-alternatives: using /usr/lib/jvm/java-17-openjdk-amd64/bin/jpackage to provide /usr/bin/jpackage (jpackage) in auto mode\n",
            "update-alternatives: using /usr/lib/jvm/java-17-openjdk-amd64/bin/keytool to provide /usr/bin/keytool (keytool) in auto mode\n",
            "update-alternatives: using /usr/lib/jvm/java-17-openjdk-amd64/bin/rmiregistry to provide /usr/bin/rmiregistry (rmiregistry) in auto mode\n",
            "update-alternatives: using /usr/lib/jvm/java-17-openjdk-amd64/lib/jexec to provide /usr/bin/jexec (jexec) in auto mode\n",
            "Setting up fonts-dejavu-extra (2.37-2build1) ...\n",
            "Setting up x11-utils (7.7+5build2) ...\n",
            "Setting up libatk-wrapper-java (0.38.0-5build1) ...\n",
            "Setting up openjdk-17-jre:amd64 (17.0.16+8~us1-0ubuntu1~22.04.1) ...\n",
            "Setting up libatk-wrapper-java-jni:amd64 (0.38.0-5build1) ...\n",
            "Setting up openjdk-17-jdk-headless:amd64 (17.0.16+8~us1-0ubuntu1~22.04.1) ...\n",
            "update-alternatives: using /usr/lib/jvm/java-17-openjdk-amd64/bin/jar to provide /usr/bin/jar (jar) in auto mode\n",
            "update-alternatives: using /usr/lib/jvm/java-17-openjdk-amd64/bin/jarsigner to provide /usr/bin/jarsigner (jarsigner) in auto mode\n",
            "update-alternatives: using /usr/lib/jvm/java-17-openjdk-amd64/bin/javac to provide /usr/bin/javac (javac) in auto mode\n",
            "update-alternatives: using /usr/lib/jvm/java-17-openjdk-amd64/bin/javadoc to provide /usr/bin/javadoc (javadoc) in auto mode\n",
            "update-alternatives: using /usr/lib/jvm/java-17-openjdk-amd64/bin/javap to provide /usr/bin/javap (javap) in auto mode\n",
            "update-alternatives: using /usr/lib/jvm/java-17-openjdk-amd64/bin/jcmd to provide /usr/bin/jcmd (jcmd) in auto mode\n",
            "update-alternatives: using /usr/lib/jvm/java-17-openjdk-amd64/bin/jdb to provide /usr/bin/jdb (jdb) in auto mode\n",
            "update-alternatives: using /usr/lib/jvm/java-17-openjdk-amd64/bin/jdeprscan to provide /usr/bin/jdeprscan (jdeprscan) in auto mode\n",
            "update-alternatives: using /usr/lib/jvm/java-17-openjdk-amd64/bin/jdeps to provide /usr/bin/jdeps (jdeps) in auto mode\n",
            "update-alternatives: using /usr/lib/jvm/java-17-openjdk-amd64/bin/jfr to provide /usr/bin/jfr (jfr) in auto mode\n",
            "update-alternatives: using /usr/lib/jvm/java-17-openjdk-amd64/bin/jimage to provide /usr/bin/jimage (jimage) in auto mode\n",
            "update-alternatives: using /usr/lib/jvm/java-17-openjdk-amd64/bin/jinfo to provide /usr/bin/jinfo (jinfo) in auto mode\n",
            "update-alternatives: using /usr/lib/jvm/java-17-openjdk-amd64/bin/jlink to provide /usr/bin/jlink (jlink) in auto mode\n",
            "update-alternatives: using /usr/lib/jvm/java-17-openjdk-amd64/bin/jmap to provide /usr/bin/jmap (jmap) in auto mode\n",
            "update-alternatives: using /usr/lib/jvm/java-17-openjdk-amd64/bin/jmod to provide /usr/bin/jmod (jmod) in auto mode\n",
            "update-alternatives: using /usr/lib/jvm/java-17-openjdk-amd64/bin/jps to provide /usr/bin/jps (jps) in auto mode\n",
            "update-alternatives: using /usr/lib/jvm/java-17-openjdk-amd64/bin/jrunscript to provide /usr/bin/jrunscript (jrunscript) in auto mode\n",
            "update-alternatives: using /usr/lib/jvm/java-17-openjdk-amd64/bin/jshell to provide /usr/bin/jshell (jshell) in auto mode\n",
            "update-alternatives: using /usr/lib/jvm/java-17-openjdk-amd64/bin/jstack to provide /usr/bin/jstack (jstack) in auto mode\n",
            "update-alternatives: using /usr/lib/jvm/java-17-openjdk-amd64/bin/jstat to provide /usr/bin/jstat (jstat) in auto mode\n",
            "update-alternatives: using /usr/lib/jvm/java-17-openjdk-amd64/bin/jstatd to provide /usr/bin/jstatd (jstatd) in auto mode\n",
            "update-alternatives: using /usr/lib/jvm/java-17-openjdk-amd64/bin/serialver to provide /usr/bin/serialver (serialver) in auto mode\n",
            "update-alternatives: using /usr/lib/jvm/java-17-openjdk-amd64/bin/jhsdb to provide /usr/bin/jhsdb (jhsdb) in auto mode\n",
            "Setting up openjdk-17-jdk:amd64 (17.0.16+8~us1-0ubuntu1~22.04.1) ...\n",
            "update-alternatives: using /usr/lib/jvm/java-17-openjdk-amd64/bin/jconsole to provide /usr/bin/jconsole (jconsole) in auto mode\n",
            "Processing triggers for fontconfig (2.13.1-4.2ubuntu5) ...\n",
            "Processing triggers for hicolor-icon-theme (0.17-2) ...\n",
            "Processing triggers for libc-bin (2.35-0ubuntu3.8) ...\n",
            "/sbin/ldconfig.real: /usr/local/lib/libtbbbind_2_0.so.3 is not a symbolic link\n",
            "\n",
            "/sbin/ldconfig.real: /usr/local/lib/libhwloc.so.15 is not a symbolic link\n",
            "\n",
            "/sbin/ldconfig.real: /usr/local/lib/libtbbmalloc.so.2 is not a symbolic link\n",
            "\n",
            "/sbin/ldconfig.real: /usr/local/lib/libtcm.so.1 is not a symbolic link\n",
            "\n",
            "/sbin/ldconfig.real: /usr/local/lib/libur_adapter_level_zero_v2.so.0 is not a symbolic link\n",
            "\n",
            "/sbin/ldconfig.real: /usr/local/lib/libtbbbind_2_5.so.3 is not a symbolic link\n",
            "\n",
            "/sbin/ldconfig.real: /usr/local/lib/libtbbmalloc_proxy.so.2 is not a symbolic link\n",
            "\n",
            "/sbin/ldconfig.real: /usr/local/lib/libumf.so.0 is not a symbolic link\n",
            "\n",
            "/sbin/ldconfig.real: /usr/local/lib/libtbb.so.12 is not a symbolic link\n",
            "\n",
            "/sbin/ldconfig.real: /usr/local/lib/libur_adapter_level_zero.so.0 is not a symbolic link\n",
            "\n",
            "/sbin/ldconfig.real: /usr/local/lib/libtbbbind.so.3 is not a symbolic link\n",
            "\n",
            "/sbin/ldconfig.real: /usr/local/lib/libtcm_debug.so.1 is not a symbolic link\n",
            "\n",
            "/sbin/ldconfig.real: /usr/local/lib/libur_adapter_opencl.so.0 is not a symbolic link\n",
            "\n",
            "/sbin/ldconfig.real: /usr/local/lib/libur_loader.so.0 is not a symbolic link\n",
            "\n",
            "Processing triggers for man-db (2.10.2-1) ...\n",
            "Processing triggers for mailcap (3.70+nmu1ubuntu1) ...\n",
            "openjdk version \"17.0.16\" 2025-07-15\n",
            "OpenJDK Runtime Environment (build 17.0.16+8-Ubuntu-0ubuntu122.04.1)\n",
            "OpenJDK 64-Bit Server VM (build 17.0.16+8-Ubuntu-0ubuntu122.04.1, mixed mode, sharing)\n",
            "javac 17.0.16\n"
          ]
        }
      ],
      "source": [
        "# Install Java JDK\n",
        "!apt-get install openjdk-17-jdk -y\n",
        "\n",
        "# Verify Java installation\n",
        "!java -version\n",
        "!javac -version\n"
      ]
    },
    {
      "cell_type": "code",
      "source": [
        "%%writefile ShamirSecretRecovery.java\n",
        "import java.io.*;\n",
        "import java.math.BigInteger;\n",
        "import java.util.*;\n",
        "import org.json.*;\n",
        "\n",
        "public class ShamirSecretRecovery {\n",
        "\n",
        "    static class Share {\n",
        "        int index;\n",
        "        BigInteger value;\n",
        "        Share(int index, BigInteger value) {\n",
        "            this.index = index;\n",
        "            this.value = value;\n",
        "        }\n",
        "    }\n",
        "\n",
        "    public static void main(String[] args) {\n",
        "        try {\n",
        "            BufferedReader br = new BufferedReader(new InputStreamReader(System.in));\n",
        "            StringBuilder sb = new StringBuilder();\n",
        "            String line;\n",
        "            while ((line = br.readLine()) != null) sb.append(line);\n",
        "            JSONObject json = new JSONObject(sb.toString());\n",
        "\n",
        "            int n = json.getJSONObject(\"keys\").getInt(\"n\");\n",
        "            int k = json.getJSONObject(\"keys\").getInt(\"k\");\n",
        "\n",
        "            List<Share> shares = new ArrayList<>();\n",
        "            for (String key : json.keySet()) {\n",
        "                if (key.equals(\"keys\")) continue;\n",
        "                JSONObject obj = json.getJSONObject(key);\n",
        "                int base = Integer.parseInt(obj.getString(\"base\"));\n",
        "                BigInteger value = new BigInteger(obj.getString(\"value\"), base);\n",
        "                shares.add(new Share(Integer.parseInt(key), value));\n",
        "            }\n",
        "\n",
        "            Share wrongShare = null;\n",
        "            BigInteger secret = null;\n",
        "\n",
        "            outer:\n",
        "            for (int i = 0; i < shares.size(); i++) {\n",
        "                for (int j = 0; j < shares.size(); j++) {\n",
        "                    if (i == j) continue;\n",
        "\n",
        "                    List<Share> candidateShares = new ArrayList<>();\n",
        "                    for (int idx = 0; idx < shares.size(); idx++) {\n",
        "                        if (idx != j) candidateShares.add(shares.get(idx));\n",
        "                    }\n",
        "\n",
        "                    List<Share> subset = candidateShares.subList(0, k);\n",
        "\n",
        "                    try {\n",
        "                        BigInteger computedSecret = lagrangeInterpolationAtZero(subset);\n",
        "                        boolean consistent = true;\n",
        "                        for (Share s : shares) {\n",
        "                            if (!subset.contains(s)) {\n",
        "                                BigInteger predicted = lagrangeInterpolationAtX(subset, s.index);\n",
        "                                if (!predicted.equals(s.value)) {\n",
        "                                    consistent = false;\n",
        "                                    break;\n",
        "                                }\n",
        "                            }\n",
        "                        }\n",
        "                        if (consistent) {\n",
        "                            secret = computedSecret;\n",
        "                            wrongShare = shares.get(j);\n",
        "                            break outer;\n",
        "                        }\n",
        "                    } catch (ArithmeticException e) {}\n",
        "                }\n",
        "            }\n",
        "\n",
        "            if (secret != null && wrongShare != null) {\n",
        "                System.out.println(\"Secret: \" + secret);\n",
        "                System.out.println(\"Wrong Share: \" + wrongShare.index + \" (\" + wrongShare.value + \")\");\n",
        "            } else {\n",
        "                System.out.println(\"Failed to recover secret or identify wrong share.\");\n",
        "            }\n",
        "\n",
        "        } catch (Exception e) { e.printStackTrace(); }\n",
        "    }\n",
        "\n",
        "    private static BigInteger lagrangeInterpolationAtZero(List<Share> shares) {\n",
        "        BigInteger result = BigInteger.ZERO;\n",
        "        for (int i = 0; i < shares.size(); i++) {\n",
        "            BigInteger xi = BigInteger.valueOf(shares.get(i).index);\n",
        "            BigInteger yi = shares.get(i).value;\n",
        "            BigInteger numerator = BigInteger.ONE;\n",
        "            BigInteger denominator = BigInteger.ONE;\n",
        "\n",
        "            for (int j = 0; j < shares.size(); j++) {\n",
        "                if (i == j) continue;\n",
        "                BigInteger xj = BigInteger.valueOf(shares.get(j).index);\n",
        "                numerator = numerator.multiply(xj.negate());\n",
        "                denominator = denominator.multiply(xi.subtract(xj));\n",
        "            }\n",
        "\n",
        "            result = result.add(yi.multiply(numerator).divide(denominator));\n",
        "        }\n",
        "        return result;\n",
        "    }\n",
        "\n",
        "    private static BigInteger lagrangeInterpolationAtX(List<Share> shares, int x) {\n",
        "        BigInteger result = BigInteger.ZERO;\n",
        "        BigInteger X = BigInteger.valueOf(x);\n",
        "\n",
        "        for (int i = 0; i < shares.size(); i++) {\n",
        "            BigInteger xi = BigInteger.valueOf(shares.get(i).index);\n",
        "            BigInteger yi = shares.get(i).value;\n",
        "            BigInteger numerator = BigInteger.ONE;\n",
        "            BigInteger denominator = BigInteger.ONE;\n",
        "\n",
        "            for (int j = 0; j < shares.size(); j++) {\n",
        "                if (i == j) continue;\n",
        "                BigInteger xj = BigInteger.valueOf(shares.get(j).index);\n",
        "                numerator = numerator.multiply(X.subtract(xj));\n",
        "                denominator = denominator.multiply(xi.subtract(xj));\n",
        "            }\n",
        "            result = result.add(yi.multiply(numerator).divide(denominator));\n",
        "        }\n",
        "        return result;\n",
        "    }\n",
        "}\n"
      ],
      "metadata": {
        "colab": {
          "base_uri": "https://localhost:8080/"
        },
        "id": "tai1fKUBmBON",
        "outputId": "d5b75ca6-3871-4aed-9d80-71036b7f9b8a"
      },
      "execution_count": 40,
      "outputs": [
        {
          "output_type": "stream",
          "name": "stdout",
          "text": [
            "Overwriting ShamirSecretRecovery.java\n"
          ]
        }
      ]
    },
    {
      "cell_type": "code",
      "source": [
        "!wget -O json.jar https://repo1.maven.org/maven2/org/json/json/20210307/json-20210307.jar\n"
      ],
      "metadata": {
        "colab": {
          "base_uri": "https://localhost:8080/"
        },
        "id": "n5BSwU0mmFaq",
        "outputId": "78aae339-aaf2-420d-8fb1-f7929ced150b"
      },
      "execution_count": 33,
      "outputs": [
        {
          "output_type": "stream",
          "name": "stdout",
          "text": [
            "--2025-08-30 06:23:12--  https://repo1.maven.org/maven2/org/json/json/20210307/json-20210307.jar\n",
            "Resolving repo1.maven.org (repo1.maven.org)... 199.232.192.209, 199.232.196.209, 2a04:4e42:4c::209, ...\n",
            "Connecting to repo1.maven.org (repo1.maven.org)|199.232.192.209|:443... connected.\n",
            "HTTP request sent, awaiting response... 200 OK\n",
            "Length: 69710 (68K) [application/java-archive]\n",
            "Saving to: ‘json.jar’\n",
            "\n",
            "\rjson.jar              0%[                    ]       0  --.-KB/s               \rjson.jar            100%[===================>]  68.08K  --.-KB/s    in 0.004s  \n",
            "\n",
            "2025-08-30 06:23:12 (15.8 MB/s) - ‘json.jar’ saved [69710/69710]\n",
            "\n"
          ]
        }
      ]
    },
    {
      "cell_type": "code",
      "source": [
        "!javac -cp json.jar ShamirSecretRecovery.java\n"
      ],
      "metadata": {
        "id": "kLUphRp9mJfW"
      },
      "execution_count": 34,
      "outputs": []
    },
    {
      "cell_type": "code",
      "source": [
        "%%writefile input.json\n",
        "{\n",
        "  \"keys\": {\"n\":4,\"k\":3},\n",
        "  \"1\": {\"base\":\"10\",\"value\":\"4\"},\n",
        "  \"2\": {\"base\":\"2\",\"value\":\"111\"},\n",
        "  \"3\": {\"base\":\"10\",\"value\":\"12\"},\n",
        "  \"6\": {\"base\":\"4\",\"value\":\"213\"}\n",
        "}\n"
      ],
      "metadata": {
        "colab": {
          "base_uri": "https://localhost:8080/"
        },
        "id": "FTTij3IbmNEw",
        "outputId": "7183c17e-f172-48dc-ad97-81fcc5d73368"
      },
      "execution_count": 41,
      "outputs": [
        {
          "output_type": "stream",
          "name": "stdout",
          "text": [
            "Overwriting input.json\n"
          ]
        }
      ]
    },
    {
      "cell_type": "code",
      "source": [
        "!java -cp .:json.jar ShamirSecretRecovery < input.json\n"
      ],
      "metadata": {
        "colab": {
          "base_uri": "https://localhost:8080/"
        },
        "id": "HZ6bNW8SmQKK",
        "outputId": "5afbe73f-037c-43a0-d45e-510c0fc6094e"
      },
      "execution_count": 36,
      "outputs": [
        {
          "output_type": "stream",
          "name": "stdout",
          "text": [
            "Secret: 2\n",
            "Wrong Share: 2 (7)\n"
          ]
        }
      ]
    },
    {
      "cell_type": "code",
      "source": [
        "{\n",
        "  \"keys\": {\n",
        "    \"n\": 10,\n",
        "    \"k\": 7\n",
        "  },\n",
        "  \"1\": {\n",
        "    \"base\": \"6\",\n",
        "    \"value\": \"13444211440455345511\"\n",
        "  },\n",
        "  \"2\": {\n",
        "    \"base\": \"15\",\n",
        "    \"value\": \"aed7015a346d635\"\n",
        "  },\n",
        "  \"3\": {\n",
        "    \"base\": \"15\",\n",
        "    \"value\": \"6aeeb69631c227c\"\n",
        "  },\n",
        "  \"4\": {\n",
        "    \"base\": \"16\",\n",
        "    \"value\": \"e1b5e05623d881f\"\n",
        "  },\n",
        "  \"5\": {\n",
        "    \"base\": \"8\",\n",
        "    \"value\": \"316034514573652620673\"\n",
        "  },\n",
        "  \"6\": {\n",
        "    \"base\": \"3\",\n",
        "    \"value\": \"2122212201122002221120200210011020220200\"\n",
        "  },\n",
        "  \"7\": {\n",
        "    \"base\": \"3\",\n",
        "    \"value\": \"20120221122211000100210021102001201112121\"\n",
        "  },\n",
        "  \"8\": {\n",
        "    \"base\": \"6\",\n",
        "    \"value\": \"20220554335330240002224253\"\n",
        "  },\n",
        "  \"9\": {\n",
        "    \"base\": \"12\",\n",
        "    \"value\": \"45153788322a1255483\"\n",
        "  },\n",
        "  \"10\": {\n",
        "    \"base\": \"7\",\n",
        "    \"value\": \"1101613130313526312514143\"\n",
        "  }\n",
        "}\n"
      ],
      "metadata": {
        "colab": {
          "base_uri": "https://localhost:8080/"
        },
        "id": "kZtZV9XhmyHD",
        "outputId": "f8b42c58-618d-486b-a8c9-fa02c0501f9d"
      },
      "execution_count": 37,
      "outputs": [
        {
          "output_type": "execute_result",
          "data": {
            "text/plain": [
              "{'keys': {'n': 10, 'k': 7},\n",
              " '1': {'base': '6', 'value': '13444211440455345511'},\n",
              " '2': {'base': '15', 'value': 'aed7015a346d635'},\n",
              " '3': {'base': '15', 'value': '6aeeb69631c227c'},\n",
              " '4': {'base': '16', 'value': 'e1b5e05623d881f'},\n",
              " '5': {'base': '8', 'value': '316034514573652620673'},\n",
              " '6': {'base': '3', 'value': '2122212201122002221120200210011020220200'},\n",
              " '7': {'base': '3', 'value': '20120221122211000100210021102001201112121'},\n",
              " '8': {'base': '6', 'value': '20220554335330240002224253'},\n",
              " '9': {'base': '12', 'value': '45153788322a1255483'},\n",
              " '10': {'base': '7', 'value': '1101613130313526312514143'}}"
            ]
          },
          "metadata": {},
          "execution_count": 37
        }
      ]
    },
    {
      "cell_type": "code",
      "source": [
        "!java -cp .:json.jar ShamirSecretRecovery < input_test2.json\n"
      ],
      "metadata": {
        "colab": {
          "base_uri": "https://localhost:8080/"
        },
        "id": "ZRGfYmzNmzoJ",
        "outputId": "62ed95b0-bb1c-4f96-a067-798f55438e89"
      },
      "execution_count": 39,
      "outputs": [
        {
          "output_type": "stream",
          "name": "stdout",
          "text": [
            "Failed to recover secret or identify wrong share.\n"
          ]
        }
      ]
    }
  ]
}